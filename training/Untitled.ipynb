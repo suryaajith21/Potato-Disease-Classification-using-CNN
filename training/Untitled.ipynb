{
 "cells": [
  {
   "cell_type": "code",
   "execution_count": 8,
   "id": "8da0bee1",
   "metadata": {},
   "outputs": [],
   "source": [
    "import tensorflow as tf\n",
    "from tensorflow.keras import models, layers\n",
    "import matplotlib.pyplot as plt\n",
    "from IPython.display import HTML\n",
    "from tensorflow.keras.preprocessing.image import ImageDataGenerator"
   ]
  },
  {
   "cell_type": "code",
   "execution_count": 11,
   "id": "d0056d6a",
   "metadata": {},
   "outputs": [
    {
     "name": "stdout",
     "output_type": "stream",
     "text": [
      "Found 1506 images belonging to 3 classes.\n"
     ]
    }
   ],
   "source": [
    "IMAGE_SIZE = 256\n",
    "CHANNELS = 3\n",
    "train_datagen = ImageDataGenerator(\n",
    "    rescale = 1./255,\n",
    "    horizontal_flip=True,\n",
    "    rotation_range=10\n",
    ")\n",
    "\n",
    "train_generator= train_datagen.flow_from_directory(\n",
    "    'dataset/train',\n",
    "    target_size =(IMAGE_SIZE,IMAGE_SIZE),\n",
    "    batch_size=32,\n",
    "    class_mode='sparse'\n",
    ")"
   ]
  },
  {
   "cell_type": "code",
   "execution_count": 10,
   "id": "d00c1247",
   "metadata": {},
   "outputs": [
    {
     "name": "stdout",
     "output_type": "stream",
     "text": [
      "(32, 256, 256, 3)\n"
     ]
    }
   ],
   "source": [
    "for image_batch, label_batch in train_generator:\n",
    "    print(image_batch.shape)\n",
    "    break"
   ]
  },
  {
   "cell_type": "code",
   "execution_count": 12,
   "id": "85bdbd5d",
   "metadata": {},
   "outputs": [
    {
     "name": "stdout",
     "output_type": "stream",
     "text": [
      "Found 215 images belonging to 3 classes.\n"
     ]
    }
   ],
   "source": [
    "validation_datagen = ImageDataGenerator(\n",
    "    rescale = 1./255,\n",
    "    horizontal_flip=True,\n",
    "    rotation_range=10\n",
    ")\n",
    "\n",
    "validation_generator= validation_datagen.flow_from_directory(\n",
    "    'dataset/val',\n",
    "    target_size =(IMAGE_SIZE,IMAGE_SIZE),\n",
    "    batch_size=32,\n",
    "    class_mode='sparse'\n",
    ")"
   ]
  },
  {
   "cell_type": "code",
   "execution_count": 14,
   "id": "be4e227c",
   "metadata": {},
   "outputs": [
    {
     "name": "stdout",
     "output_type": "stream",
     "text": [
      "Found 431 images belonging to 3 classes.\n"
     ]
    }
   ],
   "source": [
    "test_datagen = ImageDataGenerator(\n",
    "    rescale = 1./255,\n",
    "    horizontal_flip=True,\n",
    "    rotation_range=10\n",
    ")\n",
    "\n",
    "test_generator= validation_datagen.flow_from_directory(\n",
    "    'dataset/test',\n",
    "    target_size =(IMAGE_SIZE,IMAGE_SIZE),\n",
    "    batch_size=32,\n",
    "    class_mode='sparse'\n",
    ")"
   ]
  },
  {
   "cell_type": "code",
   "execution_count": 16,
   "id": "d52e3eef",
   "metadata": {},
   "outputs": [],
   "source": [
    "input_shape = (IMAGE_SIZE, IMAGE_SIZE, CHANNELS)\n",
    "n_classes = 3\n",
    "\n",
    "model = models.Sequential([\n",
    "    layers.InputLayer(input_shape=input_shape),\n",
    "    layers.Conv2D(32, kernel_size = (3,3), activation='relu'),\n",
    "    layers.MaxPooling2D((2, 2)),\n",
    "    layers.Conv2D(64,  kernel_size = (3,3), activation='relu'),\n",
    "    layers.MaxPooling2D((2, 2)),\n",
    "    layers.Conv2D(64,  kernel_size = (3,3), activation='relu'),\n",
    "    layers.MaxPooling2D((2, 2)),\n",
    "    layers.Conv2D(64, (3, 3), activation='relu'),\n",
    "    layers.MaxPooling2D((2, 2)),\n",
    "    layers.Conv2D(64, (3, 3), activation='relu'),\n",
    "    layers.MaxPooling2D((2, 2)),\n",
    "    layers.Conv2D(64, (3, 3), activation='relu'),\n",
    "    layers.MaxPooling2D((2, 2)),\n",
    "    layers.Flatten(),\n",
    "    layers.Dense(64, activation='relu'),\n",
    "    layers.Dense(n_classes, activation='softmax'),\n",
    "])"
   ]
  },
  {
   "cell_type": "code",
   "execution_count": 17,
   "id": "0504706b",
   "metadata": {},
   "outputs": [],
   "source": [
    "model.compile(\n",
    "    optimizer='adam',\n",
    "    loss=tf.keras.losses.SparseCategoricalCrossentropy(from_logits=False),\n",
    "    metrics=['accuracy']\n",
    ")"
   ]
  },
  {
   "cell_type": "code",
   "execution_count": 18,
   "id": "84544579",
   "metadata": {},
   "outputs": [
    {
     "data": {
      "text/plain": [
       "47.0625"
      ]
     },
     "execution_count": 18,
     "metadata": {},
     "output_type": "execute_result"
    }
   ],
   "source": [
    "1506/32"
   ]
  },
  {
   "cell_type": "code",
   "execution_count": 19,
   "id": "9ac8102b",
   "metadata": {
    "scrolled": true
   },
   "outputs": [
    {
     "name": "stdout",
     "output_type": "stream",
     "text": [
      "Epoch 1/20\n",
      "47/47 [==============================] - 36s 599ms/step - loss: 0.8937 - accuracy: 0.5007 - val_loss: 0.8690 - val_accuracy: 0.4635\n",
      "Epoch 2/20\n",
      "47/47 [==============================] - 19s 407ms/step - loss: 0.7035 - accuracy: 0.6459 - val_loss: 0.5832 - val_accuracy: 0.7344\n",
      "Epoch 3/20\n",
      "47/47 [==============================] - 19s 403ms/step - loss: 0.5511 - accuracy: 0.7544 - val_loss: 0.4071 - val_accuracy: 0.8177\n",
      "Epoch 4/20\n",
      "47/47 [==============================] - 19s 410ms/step - loss: 0.3171 - accuracy: 0.8758 - val_loss: 0.2667 - val_accuracy: 0.8906\n",
      "Epoch 5/20\n",
      "47/47 [==============================] - 20s 414ms/step - loss: 0.2724 - accuracy: 0.8901 - val_loss: 0.2466 - val_accuracy: 0.8750\n",
      "Epoch 6/20\n",
      "47/47 [==============================] - 22s 462ms/step - loss: 0.2633 - accuracy: 0.8887 - val_loss: 0.2755 - val_accuracy: 0.8646\n",
      "Epoch 7/20\n",
      "47/47 [==============================] - 20s 413ms/step - loss: 0.2186 - accuracy: 0.9159 - val_loss: 0.1805 - val_accuracy: 0.9219\n",
      "Epoch 8/20\n",
      "47/47 [==============================] - 19s 407ms/step - loss: 0.1516 - accuracy: 0.9376 - val_loss: 0.1494 - val_accuracy: 0.9219\n",
      "Epoch 9/20\n",
      "47/47 [==============================] - 19s 406ms/step - loss: 0.1077 - accuracy: 0.9647 - val_loss: 0.2125 - val_accuracy: 0.9062\n",
      "Epoch 10/20\n",
      "47/47 [==============================] - 21s 431ms/step - loss: 0.1904 - accuracy: 0.9233 - val_loss: 0.3463 - val_accuracy: 0.8125\n",
      "Epoch 11/20\n",
      "47/47 [==============================] - 20s 421ms/step - loss: 0.1811 - accuracy: 0.9247 - val_loss: 0.1169 - val_accuracy: 0.9635\n",
      "Epoch 12/20\n",
      "47/47 [==============================] - 20s 432ms/step - loss: 0.0981 - accuracy: 0.9681 - val_loss: 0.1613 - val_accuracy: 0.9323\n",
      "Epoch 13/20\n",
      "47/47 [==============================] - 20s 412ms/step - loss: 0.0814 - accuracy: 0.9722 - val_loss: 0.0836 - val_accuracy: 0.9583\n",
      "Epoch 14/20\n",
      "47/47 [==============================] - 22s 458ms/step - loss: 0.0604 - accuracy: 0.9756 - val_loss: 0.1338 - val_accuracy: 0.9531\n",
      "Epoch 15/20\n",
      "47/47 [==============================] - 20s 428ms/step - loss: 0.0859 - accuracy: 0.9688 - val_loss: 0.0401 - val_accuracy: 0.9896\n",
      "Epoch 16/20\n",
      "47/47 [==============================] - 20s 415ms/step - loss: 0.0352 - accuracy: 0.9858 - val_loss: 0.0512 - val_accuracy: 0.9896\n",
      "Epoch 17/20\n",
      "47/47 [==============================] - 21s 438ms/step - loss: 0.0483 - accuracy: 0.9810 - val_loss: 0.0635 - val_accuracy: 0.9635\n",
      "Epoch 18/20\n",
      "47/47 [==============================] - 21s 452ms/step - loss: 0.0593 - accuracy: 0.9769 - val_loss: 0.1271 - val_accuracy: 0.9583\n",
      "Epoch 19/20\n",
      "47/47 [==============================] - 20s 419ms/step - loss: 0.1947 - accuracy: 0.9355 - val_loss: 0.3147 - val_accuracy: 0.8802\n",
      "Epoch 20/20\n",
      "47/47 [==============================] - 19s 405ms/step - loss: 0.1690 - accuracy: 0.9369 - val_loss: 0.2492 - val_accuracy: 0.9115\n"
     ]
    },
    {
     "data": {
      "text/plain": [
       "<tensorflow.python.keras.callbacks.History at 0x21022ade1f0>"
      ]
     },
     "execution_count": 19,
     "metadata": {},
     "output_type": "execute_result"
    }
   ],
   "source": [
    "model.fit(\n",
    "    train_generator,\n",
    "    steps_per_epoch=47,\n",
    "    batch_size=32,\n",
    "    validation_data=validation_generator,\n",
    "    validation_steps=6,\n",
    "    verbose=1,\n",
    "    epochs=20\n",
    ")"
   ]
  },
  {
   "cell_type": "code",
   "execution_count": 20,
   "id": "eed2256b",
   "metadata": {},
   "outputs": [
    {
     "name": "stdout",
     "output_type": "stream",
     "text": [
      "14/14 [==============================] - 8s 546ms/step - loss: 0.2070 - accuracy: 0.9188\n"
     ]
    }
   ],
   "source": [
    "scores = model.evaluate(test_generator)"
   ]
  },
  {
   "cell_type": "code",
   "execution_count": 21,
   "id": "ea98b40b",
   "metadata": {},
   "outputs": [],
   "source": [
    "model.save(\"../potatoes.h5\")"
   ]
  }
 ],
 "metadata": {
  "kernelspec": {
   "display_name": "Python 3 (ipykernel)",
   "language": "python",
   "name": "python3"
  },
  "language_info": {
   "codemirror_mode": {
    "name": "ipython",
    "version": 3
   },
   "file_extension": ".py",
   "mimetype": "text/x-python",
   "name": "python",
   "nbconvert_exporter": "python",
   "pygments_lexer": "ipython3",
   "version": "3.9.7"
  }
 },
 "nbformat": 4,
 "nbformat_minor": 5
}
